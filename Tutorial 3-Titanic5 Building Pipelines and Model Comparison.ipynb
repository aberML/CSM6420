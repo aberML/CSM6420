{
 "cells": [
  {
   "cell_type": "markdown",
   "metadata": {},
   "source": [
    "# Section 5 - Model Comparison using Pipelines"
   ]
  },
  {
   "cell_type": "markdown",
   "metadata": {},
   "source": [
    "GridSearchCV reviews the performance of a set range of parameters on a cross-validation basis. This means only a portion of the training data is reviewed at any one time. When filling in the NA values with the mean value or feature selection, however, we considered the whole set of training data."
   ]
  },
  {
   "cell_type": "markdown",
   "metadata": {},
   "source": [
    "Hence we took an inconsistent approach in reviewing only a portion of the data when running GridSearchCV, but the full set of data when filling in missing values. We can avoid this inconsistency by building pipelines and making imputations."
   ]
  },
  {
   "cell_type": "markdown",
   "metadata": {},
   "source": [
    "## Pandas - Extracting data"
   ]
  },
  {
   "cell_type": "code",
   "execution_count": 5,
   "metadata": {
    "collapsed": false
   },
   "outputs": [],
   "source": [
    "import pandas as pd\n",
    "import numpy as np\n",
    "\n",
    "df = pd.read_csv('data/train.csv')"
   ]
  },
  {
   "cell_type": "markdown",
   "metadata": {},
   "source": [
    "## Pandas - Cleaning data"
   ]
  },
  {
   "cell_type": "markdown",
   "metadata": {},
   "source": [
    "We will leave the NA values in the column Age."
   ]
  },
  {
   "cell_type": "code",
   "execution_count": 6,
   "metadata": {
    "collapsed": false
   },
   "outputs": [],
   "source": [
    "df = df.drop(['Name', 'Ticket', 'Cabin'], axis=1)\n",
    "\n",
    "age_mean = df['Age'].mean()\n",
    "\n",
    "from scipy.stats import mode\n",
    "\n",
    "mode_embarked = mode(df['Embarked'])[0][0]\n",
    "df['Embarked'] = df['Embarked'].fillna(mode_embarked)\n",
    "\n",
    "df['Gender'] = df['Sex'].map({'female': 0, 'male': 1}).astype(int)\n",
    "\n",
    "pd.get_dummies(df['Embarked'], prefix='Embarked').head(10)\n",
    "df = pd.concat([df, pd.get_dummies(df['Embarked'], prefix='Embarked')], axis=1)\n",
    "\n",
    "df = df.drop(['Sex', 'Embarked'], axis=1)\n",
    "\n",
    "cols = df.columns.tolist()\n",
    "cols = [cols[1]] + cols[0:1] + cols[2:]\n",
    "\n",
    "df = df[cols]"
   ]
  },
  {
   "cell_type": "markdown",
   "metadata": {},
   "source": [
    "We then review our dataset."
   ]
  },
  {
   "cell_type": "code",
   "execution_count": 7,
   "metadata": {
    "collapsed": false
   },
   "outputs": [
    {
     "name": "stdout",
     "output_type": "stream",
     "text": [
      "<class 'pandas.core.frame.DataFrame'>\n",
      "Int64Index: 891 entries, 0 to 890\n",
      "Data columns (total 11 columns):\n",
      "Survived       891 non-null int64\n",
      "PassengerId    891 non-null int64\n",
      "Pclass         891 non-null int64\n",
      "Age            714 non-null float64\n",
      "SibSp          891 non-null int64\n",
      "Parch          891 non-null int64\n",
      "Fare           891 non-null float64\n",
      "Gender         891 non-null int64\n",
      "Embarked_C     891 non-null float64\n",
      "Embarked_Q     891 non-null float64\n",
      "Embarked_S     891 non-null float64\n",
      "dtypes: float64(5), int64(6)\n",
      "memory usage: 83.5 KB\n"
     ]
    }
   ],
   "source": [
    "df.info()"
   ]
  },
  {
   "cell_type": "code",
   "execution_count": 8,
   "metadata": {
    "collapsed": false
   },
   "outputs": [],
   "source": [
    "train_data = df.values"
   ]
  },
  {
   "cell_type": "markdown",
   "metadata": {},
   "source": [
    "## Scikit-learn - Training the model"
   ]
  },
  {
   "cell_type": "markdown",
   "metadata": {},
   "source": [
    "### Building pipelines\n",
    "We now build pipelines to enable us to first impute the mean value of the column Age on the portion of the training data we are considering, scale the data, select the features, and then assess the performance of our tuning parameters with various learning algorithms."
   ]
  },
  {
   "cell_type": "code",
   "execution_count": 10,
   "metadata": {
    "collapsed": false
   },
   "outputs": [],
   "source": [
    "# Building a pipeline for random forest model (rf)\n",
    "from sklearn.pipeline import Pipeline\n",
    "from sklearn.preprocessing import Imputer\n",
    "from sklearn.preprocessing import StandardScaler\n",
    "from sklearn.feature_selection import SelectKBest\n",
    "from sklearn.feature_selection import f_regression\n",
    "\n",
    "from sklearn.ensemble import RandomForestClassifier\n",
    "from sklearn.svm import SVC\n",
    "\n",
    "from sklearn.grid_search import GridSearchCV\n",
    "\n",
    "scaler = StandardScaler()\n",
    "anova_filter = SelectKBest(f_regression)\n",
    "imputer = Imputer(strategy='mean', missing_values=\"NaN\")\n",
    "clf = RandomForestClassifier()\n",
    "\n",
    "pipeline_rf = Pipeline([\n",
    "    ('imp', imputer),\n",
    "    ('anova', anova_filter),\n",
    "    ('rf', clf)\n",
    "])\n",
    "\n",
    "# Building a pipeline for SVM classification model (svc)\n",
    "# Normalisation is important to SVM, unlike for decision tree learning. \n",
    "\n",
    "# ANOVA SVM-C\n",
    "clf = SVC(kernel='rbf')\n",
    "pipeline_svm = Pipeline([\n",
    "        ('imp', imputer),\n",
    "        ('scale', scaler), \n",
    "        ('anova', anova_filter), \n",
    "        ('svc', clf)\n",
    "])\n"
   ]
  },
  {
   "cell_type": "markdown",
   "metadata": {},
   "source": [
    "### Grid search using pipelines\n",
    "\n",
    "We now setup parameter grid and run GridSearchCV as before but replacing the classifier with our pipeline."
   ]
  },
  {
   "cell_type": "code",
   "execution_count": 11,
   "metadata": {
    "collapsed": false
   },
   "outputs": [
    {
     "name": "stdout",
     "output_type": "stream",
     "text": [
      "Fitting 5 folds for each of 8 candidates, totalling 40 fits\n",
      "[CV] rf__max_depth=5, anova__k=8, rf__n_estimators=100 ...............\n",
      "[CV]  rf__max_depth=5, anova__k=8, rf__n_estimators=100, score=0.804469 -   0.9s\n",
      "[CV] rf__max_depth=5, anova__k=8, rf__n_estimators=100 ...............\n",
      "[CV]  rf__max_depth=5, anova__k=8, rf__n_estimators=100, score=0.810056 -   0.4s\n",
      "[CV] rf__max_depth=5, anova__k=8, rf__n_estimators=100 ...............\n",
      "[CV]  rf__max_depth=5, anova__k=8, rf__n_estimators=100, score=0.848315 -   0.4s\n",
      "[CV] rf__max_depth=5, anova__k=8, rf__n_estimators=100 ...............\n",
      "[CV]  rf__max_depth=5, anova__k=8, rf__n_estimators=100, score=0.792135 -   0.5s\n",
      "[CV] rf__max_depth=5, anova__k=8, rf__n_estimators=100 ...............\n",
      "[CV]  rf__max_depth=5, anova__k=8, rf__n_estimators=100, score=0.858757 -   0.5s\n",
      "[CV] rf__max_depth=5, anova__k=8, rf__n_estimators=1000 ..............\n",
      "[CV]  rf__max_depth=5, anova__k=8, rf__n_estimators=1000, score=0.793296 -   3.9s\n",
      "[CV] rf__max_depth=5, anova__k=8, rf__n_estimators=1000 ..............\n",
      "[CV]  rf__max_depth=5, anova__k=8, rf__n_estimators=1000, score=0.826816 -   3.9s\n",
      "[CV] rf__max_depth=5, anova__k=8, rf__n_estimators=1000 ..............\n",
      "[CV]  rf__max_depth=5, anova__k=8, rf__n_estimators=1000, score=0.837079 -   4.3s\n",
      "[CV] rf__max_depth=5, anova__k=8, rf__n_estimators=1000 ..............\n",
      "[CV]  rf__max_depth=5, anova__k=8, rf__n_estimators=1000, score=0.780899 -   4.5s\n",
      "[CV] rf__max_depth=5, anova__k=8, rf__n_estimators=1000 ..............\n",
      "[CV]  rf__max_depth=5, anova__k=8, rf__n_estimators=1000, score=0.858757 -   4.3s\n",
      "[CV] rf__max_depth=None, anova__k=8, rf__n_estimators=100 ............\n",
      "[CV]  rf__max_depth=None, anova__k=8, rf__n_estimators=100, score=0.770950 -   0.4s\n",
      "[CV] rf__max_depth=None, anova__k=8, rf__n_estimators=100 ............\n",
      "[CV]  rf__max_depth=None, anova__k=8, rf__n_estimators=100, score=0.793296 -   0.6s\n",
      "[CV] rf__max_depth=None, anova__k=8, rf__n_estimators=100 ............\n",
      "[CV]  rf__max_depth=None, anova__k=8, rf__n_estimators=100, score=0.865169 -   0.5s\n",
      "[CV] rf__max_depth=None, anova__k=8, rf__n_estimators=100 ............\n",
      "[CV]  rf__max_depth=None, anova__k=8, rf__n_estimators=100, score=0.792135 -   0.5s\n",
      "[CV] rf__max_depth=None, anova__k=8, rf__n_estimators=100 ............\n",
      "[CV]  rf__max_depth=None, anova__k=8, rf__n_estimators=100, score=0.824859 -   0.5s\n",
      "[CV] rf__max_depth=None, anova__k=8, rf__n_estimators=1000 ...........\n",
      "[CV]  rf__max_depth=None, anova__k=8, rf__n_estimators=1000, score=0.759777 -   4.5s\n",
      "[CV] rf__max_depth=None, anova__k=8, rf__n_estimators=1000 ...........\n",
      "[CV]  rf__max_depth=None, anova__k=8, rf__n_estimators=1000, score=0.804469 -   4.2s\n",
      "[CV] rf__max_depth=None, anova__k=8, rf__n_estimators=1000 ...........\n",
      "[CV]  rf__max_depth=None, anova__k=8, rf__n_estimators=1000, score=0.859551 -   4.2s\n",
      "[CV] rf__max_depth=None, anova__k=8, rf__n_estimators=1000 ...........\n",
      "[CV]  rf__max_depth=None, anova__k=8, rf__n_estimators=1000, score=0.780899 -   4.3s\n",
      "[CV] rf__max_depth=None, anova__k=8, rf__n_estimators=1000 ...........\n",
      "[CV]  rf__max_depth=None, anova__k=8, rf__n_estimators=1000, score=0.830508 -   4.2s\n",
      "[CV] rf__max_depth=5, anova__k=9, rf__n_estimators=100 ...............\n",
      "[CV]  rf__max_depth=5, anova__k=9, rf__n_estimators=100, score=0.798883 -   0.5s\n",
      "[CV] rf__max_depth=5, anova__k=9, rf__n_estimators=100 ...............\n",
      "[CV]  rf__max_depth=5, anova__k=9, rf__n_estimators=100, score=0.826816 -   0.4s\n",
      "[CV] rf__max_depth=5, anova__k=9, rf__n_estimators=100 ...............\n",
      "[CV]  rf__max_depth=5, anova__k=9, rf__n_estimators=100, score=0.837079 -   0.5s\n",
      "[CV] rf__max_depth=5, anova__k=9, rf__n_estimators=100 ...............\n",
      "[CV]  rf__max_depth=5, anova__k=9, rf__n_estimators=100, score=0.786517 -   0.4s\n",
      "[CV] rf__max_depth=5, anova__k=9, rf__n_estimators=100 ...............\n",
      "[CV]  rf__max_depth=5, anova__k=9, rf__n_estimators=100, score=0.847458 -   0.5s\n",
      "[CV] rf__max_depth=5, anova__k=9, rf__n_estimators=1000 ..............\n",
      "[CV]  rf__max_depth=5, anova__k=9, rf__n_estimators=1000, score=0.804469 -   3.9s\n",
      "[CV] rf__max_depth=5, anova__k=9, rf__n_estimators=1000 ..............\n",
      "[CV]  rf__max_depth=5, anova__k=9, rf__n_estimators=1000, score=0.826816 -   3.9s\n",
      "[CV] rf__max_depth=5, anova__k=9, rf__n_estimators=1000 ..............\n",
      "[CV]  rf__max_depth=5, anova__k=9, rf__n_estimators=1000, score=0.831461 -   4.0s\n",
      "[CV] rf__max_depth=5, anova__k=9, rf__n_estimators=1000 ..............\n",
      "[CV]  rf__max_depth=5, anova__k=9, rf__n_estimators=1000, score=0.786517 -   4.0s\n",
      "[CV] rf__max_depth=5, anova__k=9, rf__n_estimators=1000 ..............\n",
      "[CV]  rf__max_depth=5, anova__k=9, rf__n_estimators=1000, score=0.864407 -   3.9s\n",
      "[CV] rf__max_depth=None, anova__k=9, rf__n_estimators=100 ............\n",
      "[CV]  rf__max_depth=None, anova__k=9, rf__n_estimators=100, score=0.765363 -   0.5s\n",
      "[CV] rf__max_depth=None, anova__k=9, rf__n_estimators=100 ............\n"
     ]
    },
    {
     "name": "stderr",
     "output_type": "stream",
     "text": [
      "[Parallel(n_jobs=1)]: Done  31 tasks       | elapsed:  1.2min\n"
     ]
    },
    {
     "name": "stdout",
     "output_type": "stream",
     "text": [
      "[CV]  rf__max_depth=None, anova__k=9, rf__n_estimators=100, score=0.798883 -   0.5s\n",
      "[CV] rf__max_depth=None, anova__k=9, rf__n_estimators=100 ............\n",
      "[CV]  rf__max_depth=None, anova__k=9, rf__n_estimators=100, score=0.865169 -   0.5s\n",
      "[CV] rf__max_depth=None, anova__k=9, rf__n_estimators=100 ............\n",
      "[CV]  rf__max_depth=None, anova__k=9, rf__n_estimators=100, score=0.764045 -   0.4s\n",
      "[CV] rf__max_depth=None, anova__k=9, rf__n_estimators=100 ............\n",
      "[CV]  rf__max_depth=None, anova__k=9, rf__n_estimators=100, score=0.847458 -   0.5s\n",
      "[CV] rf__max_depth=None, anova__k=9, rf__n_estimators=1000 ...........\n",
      "[CV]  rf__max_depth=None, anova__k=9, rf__n_estimators=1000, score=0.804469 -   4.2s\n",
      "[CV] rf__max_depth=None, anova__k=9, rf__n_estimators=1000 ...........\n",
      "[CV]  rf__max_depth=None, anova__k=9, rf__n_estimators=1000, score=0.804469 -   4.2s\n",
      "[CV] rf__max_depth=None, anova__k=9, rf__n_estimators=1000 ...........\n",
      "[CV]  rf__max_depth=None, anova__k=9, rf__n_estimators=1000, score=0.853933 -   5.4s\n",
      "[CV] rf__max_depth=None, anova__k=9, rf__n_estimators=1000 ...........\n",
      "[CV]  rf__max_depth=None, anova__k=9, rf__n_estimators=1000, score=0.769663 -   5.7s\n",
      "[CV] rf__max_depth=None, anova__k=9, rf__n_estimators=1000 ...........\n",
      "[CV]  rf__max_depth=None, anova__k=9, rf__n_estimators=1000, score=0.830508 -   5.3s\n"
     ]
    },
    {
     "name": "stderr",
     "output_type": "stream",
     "text": [
      "[Parallel(n_jobs=1)]: Done  40 out of  40 | elapsed:  1.6min finished\n"
     ]
    },
    {
     "name": "stdout",
     "output_type": "stream",
     "text": [
      "0.822671156004\n",
      "{'rf__max_depth': 5, 'anova__k': 8, 'rf__n_estimators': 100}\n",
      "Fitting 5 folds for each of 12 candidates, totalling 60 fits\n",
      "[CV] svc__gamma=0.1, anova__k=6, svc__C=0.1 ..........................\n",
      "[CV] . svc__gamma=0.1, anova__k=6, svc__C=0.1, score=0.793296 -   0.0s\n",
      "[CV] svc__gamma=0.1, anova__k=6, svc__C=0.1 ..........................\n",
      "[CV] . svc__gamma=0.1, anova__k=6, svc__C=0.1, score=0.804469 -   0.0s\n",
      "[CV] svc__gamma=0.1, anova__k=6, svc__C=0.1 ..........................\n",
      "[CV] . svc__gamma=0.1, anova__k=6, svc__C=0.1, score=0.769663 -   0.0s\n",
      "[CV] svc__gamma=0.1, anova__k=6, svc__C=0.1 ..........................\n",
      "[CV] . svc__gamma=0.1, anova__k=6, svc__C=0.1, score=0.775281 -   0.0s\n",
      "[CV] svc__gamma=0.1, anova__k=6, svc__C=0.1 ..........................\n",
      "[CV] . svc__gamma=0.1, anova__k=6, svc__C=0.1, score=0.790960 -   0.0s\n",
      "[CV] svc__gamma=1, anova__k=6, svc__C=0.1 ............................\n",
      "[CV] ... svc__gamma=1, anova__k=6, svc__C=0.1, score=0.754190 -   0.1s\n",
      "[CV] svc__gamma=1, anova__k=6, svc__C=0.1 ............................\n",
      "[CV] ... svc__gamma=1, anova__k=6, svc__C=0.1, score=0.815642 -   0.1s\n",
      "[CV] svc__gamma=1, anova__k=6, svc__C=0.1 ............................\n",
      "[CV] ... svc__gamma=1, anova__k=6, svc__C=0.1, score=0.831461 -   0.1s\n",
      "[CV] svc__gamma=1, anova__k=6, svc__C=0.1 ............................\n",
      "[CV] ... svc__gamma=1, anova__k=6, svc__C=0.1, score=0.775281 -   0.1s\n",
      "[CV] svc__gamma=1, anova__k=6, svc__C=0.1 ............................\n",
      "[CV] ... svc__gamma=1, anova__k=6, svc__C=0.1, score=0.802260 -   0.1s\n",
      "[CV] svc__gamma=0.1, anova__k=6, svc__C=1 ............................\n",
      "[CV] ... svc__gamma=0.1, anova__k=6, svc__C=1, score=0.798883 -   0.1s\n",
      "[CV] svc__gamma=0.1, anova__k=6, svc__C=1 ............................\n",
      "[CV] ... svc__gamma=0.1, anova__k=6, svc__C=1, score=0.821229 -   0.1s\n",
      "[CV] svc__gamma=0.1, anova__k=6, svc__C=1 ............................\n",
      "[CV] ... svc__gamma=0.1, anova__k=6, svc__C=1, score=0.837079 -   0.1s\n",
      "[CV] svc__gamma=0.1, anova__k=6, svc__C=1 ............................\n",
      "[CV] ... svc__gamma=0.1, anova__k=6, svc__C=1, score=0.792135 -   0.0s\n",
      "[CV] svc__gamma=0.1, anova__k=6, svc__C=1 ............................\n",
      "[CV] ... svc__gamma=0.1, anova__k=6, svc__C=1, score=0.819209 -   0.0s\n",
      "[CV] svc__gamma=1, anova__k=6, svc__C=1 ..............................\n",
      "[CV] ..... svc__gamma=1, anova__k=6, svc__C=1, score=0.787709 -   0.0s\n",
      "[CV] svc__gamma=1, anova__k=6, svc__C=1 ..............................\n",
      "[CV] ..... svc__gamma=1, anova__k=6, svc__C=1, score=0.804469 -   0.0s\n",
      "[CV] svc__gamma=1, anova__k=6, svc__C=1 ..............................\n",
      "[CV] ..... svc__gamma=1, anova__k=6, svc__C=1, score=0.803371 -   0.1s\n",
      "[CV] svc__gamma=1, anova__k=6, svc__C=1 ..............................\n",
      "[CV] ..... svc__gamma=1, anova__k=6, svc__C=1, score=0.769663 -   0.1s\n",
      "[CV] svc__gamma=1, anova__k=6, svc__C=1 ..............................\n",
      "[CV] ..... svc__gamma=1, anova__k=6, svc__C=1, score=0.824859 -   0.1s\n",
      "[CV] svc__gamma=0.1, anova__k=6, svc__C=10 ...........................\n",
      "[CV] .. svc__gamma=0.1, anova__k=6, svc__C=10, score=0.798883 -   0.1s\n",
      "[CV] svc__gamma=0.1, anova__k=6, svc__C=10 ...........................\n",
      "[CV] .. svc__gamma=0.1, anova__k=6, svc__C=10, score=0.821229 -   0.0s\n",
      "[CV] svc__gamma=0.1, anova__k=6, svc__C=10 ...........................\n",
      "[CV] .. svc__gamma=0.1, anova__k=6, svc__C=10, score=0.831461 -   0.0s\n",
      "[CV] svc__gamma=0.1, anova__k=6, svc__C=10 ...........................\n",
      "[CV] .. svc__gamma=0.1, anova__k=6, svc__C=10, score=0.780899 -   0.1s\n",
      "[CV] svc__gamma=0.1, anova__k=6, svc__C=10 ...........................\n",
      "[CV] .. svc__gamma=0.1, anova__k=6, svc__C=10, score=0.841808 -   0.1s\n",
      "[CV] svc__gamma=1, anova__k=6, svc__C=10 .............................\n",
      "[CV] .... svc__gamma=1, anova__k=6, svc__C=10, score=0.798883 -   0.1s\n",
      "[CV] svc__gamma=1, anova__k=6, svc__C=10 .............................\n",
      "[CV] .... svc__gamma=1, anova__k=6, svc__C=10, score=0.743017 -   0.0s\n",
      "[CV] svc__gamma=1, anova__k=6, svc__C=10 .............................\n",
      "[CV] .... svc__gamma=1, anova__k=6, svc__C=10, score=0.814607 -   0.1s\n",
      "[CV] svc__gamma=1, anova__k=6, svc__C=10 .............................\n",
      "[CV] .... svc__gamma=1, anova__k=6, svc__C=10, score=0.786517 -   0.1s\n",
      "[CV] svc__gamma=1, anova__k=6, svc__C=10 .............................\n",
      "[CV] .... svc__gamma=1, anova__k=6, svc__C=10, score=0.824859 -   0.1s\n",
      "[CV] svc__gamma=0.1, anova__k=9, svc__C=0.1 ..........................\n",
      "[CV] . svc__gamma=0.1, anova__k=9, svc__C=0.1, score=0.815642 -   0.0s\n",
      "[CV] svc__gamma=0.1, anova__k=9, svc__C=0.1 ..........................\n",
      "[CV] . svc__gamma=0.1, anova__k=9, svc__C=0.1, score=0.804469 -   0.0s\n",
      "[CV] svc__gamma=0.1, anova__k=9, svc__C=0.1 ..........................\n",
      "[CV] . svc__gamma=0.1, anova__k=9, svc__C=0.1, score=0.808989 -   0.0s\n"
     ]
    },
    {
     "name": "stderr",
     "output_type": "stream",
     "text": [
      "[Parallel(n_jobs=1)]: Done  31 tasks       | elapsed:    2.0s\n"
     ]
    },
    {
     "name": "stdout",
     "output_type": "stream",
     "text": [
      "[CV] svc__gamma=0.1, anova__k=9, svc__C=0.1 ..........................\n",
      "[CV] . svc__gamma=0.1, anova__k=9, svc__C=0.1, score=0.797753 -   0.0s\n",
      "[CV] svc__gamma=0.1, anova__k=9, svc__C=0.1 ..........................\n",
      "[CV] . svc__gamma=0.1, anova__k=9, svc__C=0.1, score=0.807910 -   0.0s\n",
      "[CV] svc__gamma=1, anova__k=9, svc__C=0.1 ............................\n",
      "[CV] ... svc__gamma=1, anova__k=9, svc__C=0.1, score=0.793296 -   0.0s\n",
      "[CV] svc__gamma=1, anova__k=9, svc__C=0.1 ............................\n",
      "[CV] ... svc__gamma=1, anova__k=9, svc__C=0.1, score=0.759777 -   0.1s\n",
      "[CV] svc__gamma=1, anova__k=9, svc__C=0.1 ............................\n",
      "[CV] ... svc__gamma=1, anova__k=9, svc__C=0.1, score=0.747191 -   0.0s\n",
      "[CV] svc__gamma=1, anova__k=9, svc__C=0.1 ............................\n",
      "[CV] ... svc__gamma=1, anova__k=9, svc__C=0.1, score=0.713483 -   0.0s\n",
      "[CV] svc__gamma=1, anova__k=9, svc__C=0.1 ............................\n",
      "[CV] ... svc__gamma=1, anova__k=9, svc__C=0.1, score=0.683616 -   0.0s\n",
      "[CV] svc__gamma=0.1, anova__k=9, svc__C=1 ............................\n",
      "[CV] ... svc__gamma=0.1, anova__k=9, svc__C=1, score=0.837989 -   0.0s\n",
      "[CV] svc__gamma=0.1, anova__k=9, svc__C=1 ............................\n",
      "[CV] ... svc__gamma=0.1, anova__k=9, svc__C=1, score=0.815642 -   0.0s\n",
      "[CV] svc__gamma=0.1, anova__k=9, svc__C=1 ............................\n",
      "[CV] ... svc__gamma=0.1, anova__k=9, svc__C=1, score=0.808989 -   0.0s\n",
      "[CV] svc__gamma=0.1, anova__k=9, svc__C=1 ............................\n",
      "[CV] ... svc__gamma=0.1, anova__k=9, svc__C=1, score=0.797753 -   0.0s\n",
      "[CV] svc__gamma=0.1, anova__k=9, svc__C=1 ............................\n",
      "[CV] ... svc__gamma=0.1, anova__k=9, svc__C=1, score=0.858757 -   0.0s\n",
      "[CV] svc__gamma=1, anova__k=9, svc__C=1 ..............................\n",
      "[CV] ..... svc__gamma=1, anova__k=9, svc__C=1, score=0.770950 -   0.0s\n",
      "[CV] svc__gamma=1, anova__k=9, svc__C=1 ..............................\n",
      "[CV] ..... svc__gamma=1, anova__k=9, svc__C=1, score=0.776536 -   0.0s\n",
      "[CV] svc__gamma=1, anova__k=9, svc__C=1 ..............................\n",
      "[CV] ..... svc__gamma=1, anova__k=9, svc__C=1, score=0.820225 -   0.0s\n",
      "[CV] svc__gamma=1, anova__k=9, svc__C=1 ..............................\n",
      "[CV] ..... svc__gamma=1, anova__k=9, svc__C=1, score=0.786517 -   0.0s\n",
      "[CV] svc__gamma=1, anova__k=9, svc__C=1 ..............................\n",
      "[CV] ..... svc__gamma=1, anova__k=9, svc__C=1, score=0.830508 -   0.1s\n",
      "[CV] svc__gamma=0.1, anova__k=9, svc__C=10 ...........................\n",
      "[CV] .. svc__gamma=0.1, anova__k=9, svc__C=10, score=0.815642 -   0.0s\n",
      "[CV] svc__gamma=0.1, anova__k=9, svc__C=10 ...........................\n",
      "[CV] .. svc__gamma=0.1, anova__k=9, svc__C=10, score=0.821229 -   0.0s\n",
      "[CV] svc__gamma=0.1, anova__k=9, svc__C=10 ...........................\n",
      "[CV] .. svc__gamma=0.1, anova__k=9, svc__C=10, score=0.820225 -   0.0s\n",
      "[CV] svc__gamma=0.1, anova__k=9, svc__C=10 ...........................\n",
      "[CV] .. svc__gamma=0.1, anova__k=9, svc__C=10, score=0.764045 -   0.1s\n",
      "[CV] svc__gamma=0.1, anova__k=9, svc__C=10 ...........................\n",
      "[CV] .. svc__gamma=0.1, anova__k=9, svc__C=10, score=0.853107 -   0.1s\n",
      "[CV] svc__gamma=1, anova__k=9, svc__C=10 .............................\n",
      "[CV] .... svc__gamma=1, anova__k=9, svc__C=10, score=0.776536 -   0.1s\n",
      "[CV] svc__gamma=1, anova__k=9, svc__C=10 .............................\n",
      "[CV] .... svc__gamma=1, anova__k=9, svc__C=10, score=0.765363 -   0.1s\n",
      "[CV] svc__gamma=1, anova__k=9, svc__C=10 .............................\n",
      "[CV] .... svc__gamma=1, anova__k=9, svc__C=10, score=0.825843 -   0.1s\n",
      "[CV] svc__gamma=1, anova__k=9, svc__C=10 .............................\n",
      "[CV] .... svc__gamma=1, anova__k=9, svc__C=10, score=0.814607 -   0.1s\n",
      "[CV] svc__gamma=1, anova__k=9, svc__C=10 .............................\n",
      "[CV] .... svc__gamma=1, anova__k=9, svc__C=10, score=0.790960 -   0.1s\n",
      "0.82379349046\n",
      "{'svc__gamma': 0.1, 'anova__k': 9, 'svc__C': 1}\n"
     ]
    },
    {
     "name": "stderr",
     "output_type": "stream",
     "text": [
      "[Parallel(n_jobs=1)]: Done  60 out of  60 | elapsed:    3.8s finished\n"
     ]
    }
   ],
   "source": [
    "pipeline_dict = {'rf': pipeline_rf, 'svm': pipeline_svm} \n",
    "parameter_grid_dict = {}\n",
    "parameter_grid_dict['rf'] = {\n",
    "            'anova__k': [8, 9],\n",
    "            'rf__n_estimators': [100, 1000],\n",
    "            'rf__max_depth': [5, None],\n",
    "        }\n",
    "\n",
    "parameter_grid_dict['svm'] = {\n",
    "            'anova__k': [6, 9],\n",
    "            'svc__C': [0.1, 1, 10],\n",
    "            'svc__gamma': [0.1, 1]\n",
    "        }\n",
    "\n",
    "grid_results = {}\n",
    "for alg in ['rf', 'svm']:\n",
    "    pipeline = pipeline_dict[alg]\n",
    "    parameter_grid = parameter_grid_dict[alg]    \n",
    "    grid_search = GridSearchCV(pipeline, parameter_grid, cv=5, verbose=3)\n",
    "    grid_search.fit(train_data[0::,2::], train_data[0::,0])\n",
    "\n",
    "    sorted(grid_search.grid_scores_, key=lambda x: x.mean_validation_score)\n",
    "    print(grid_search.best_score_)\n",
    "    print(grid_search.best_params_)\n",
    "    \n",
    "    grid_results[alg] = grid_search    \n",
    "    "
   ]
  },
  {
   "cell_type": "code",
   "execution_count": 12,
   "metadata": {
    "collapsed": false
   },
   "outputs": [
    {
     "name": "stdout",
     "output_type": "stream",
     "text": [
      "Best accuracy for rf :\n",
      "0.822671156004\n",
      "{'rf__max_depth': 5, 'anova__k': 8, 'rf__n_estimators': 100}\n",
      "Best accuracy for svm :\n",
      "0.82379349046\n",
      "{'svc__gamma': 0.1, 'anova__k': 9, 'svc__C': 1}\n"
     ]
    }
   ],
   "source": [
    "# Analysis of the grid search results \n",
    "for alg in grid_results:\n",
    "    grid_search = grid_results[alg]\n",
    "    sorted(grid_search.grid_scores_, key=lambda x: x.mean_validation_score)\n",
    "    print 'Best accuracy for %s :' % alg\n",
    "    print(grid_search.best_score_)\n",
    "    print(grid_search.best_params_)\n"
   ]
  },
  {
   "cell_type": "markdown",
   "metadata": {},
   "source": [
    "Remark:\n",
    "Univariate ANOVA feature selection doesn't seem to improve the performance for both RF and SVM. "
   ]
  },
  {
   "cell_type": "markdown",
   "metadata": {},
   "source": [
    "### Cross-validation to estimate accuracy and AUC using the selected tuning parameters"
   ]
  },
  {
   "cell_type": "code",
   "execution_count": 13,
   "metadata": {
    "collapsed": false
   },
   "outputs": [
    {
     "data": {
      "text/plain": [
       "Pipeline(steps=[('imp', Imputer(axis=0, copy=True, missing_values='NaN', strategy='mean', verbose=0)), ('scale', StandardScaler(copy=True, with_mean=True, with_std=True)), ('anova', SelectKBest(k=9, score_func=<function f_regression at 0x10a99a140>)), ('svc', SVC(C=1, cache_size=200, class_weight=None, coef0=0.0,\n",
       "  decision_function_shape=None, degree=3, gamma=0.1, kernel='rbf',\n",
       "  max_iter=-1, probability=False, random_state=None, shrinking=True,\n",
       "  tol=0.001, verbose=False))])"
      ]
     },
     "execution_count": 13,
     "metadata": {},
     "output_type": "execute_result"
    }
   ],
   "source": [
    "# Set the parameters of the models to the best ones selected from grid search\n",
    "pipeline_rf.set_params(anova__k=9, rf__n_estimators=1000, rf__max_depth=5)\n",
    "pipeline_svm.set_params(anova__k=9, svc__C=1, svc__gamma=0.1)"
   ]
  },
  {
   "cell_type": "markdown",
   "metadata": {},
   "source": [
    "Now to compare performance of different models, perform CV using the best hyper-parameters selected using grid search based on the previous pipeline analysis. This time we use two runs of 5-fold CV in order to get more reliable estimate of the performance. "
   ]
  },
  {
   "cell_type": "code",
   "execution_count": 14,
   "metadata": {
    "collapsed": false
   },
   "outputs": [
    {
     "name": "stdout",
     "output_type": "stream",
     "text": [
      "--- CV using rf ---\n",
      "[CV]Prediction accuracy: 0.815642458101\n",
      "[CV]           AUC:0.847957839262\n",
      "[CV]Prediction accuracy: 0.826815642458\n",
      "[CV]           AUC:0.819894598155\n",
      "[CV]Prediction accuracy: 0.831460674157\n",
      "[CV]           AUC:0.876203208556\n",
      "[CV]Prediction accuracy: 0.786516853933\n",
      "[CV]           AUC:0.880147058824\n",
      "[CV]Prediction accuracy: 0.864406779661\n",
      "[CV]           AUC:0.908931462493\n",
      "[CV]Prediction accuracy: 0.798882681564\n",
      "[CV]           AUC:0.846903820817\n",
      "[CV]Prediction accuracy: 0.821229050279\n",
      "[CV]           AUC:0.82279314888\n",
      "[CV]Prediction accuracy: 0.831460674157\n",
      "[CV]           AUC:0.874331550802\n",
      "[CV]Prediction accuracy: 0.786516853933\n",
      "[CV]           AUC:0.880013368984\n",
      "[CV]Prediction accuracy: 0.858757062147\n",
      "[CV]           AUC:0.911090124123\n",
      "Mean Accuracy: 0.822 (+/- 0.050)\n",
      "Mean AUC: 0.867 (+/- 0.059)\n",
      "--- CV using svm ---\n",
      "No probability output, use decision function instead!\n",
      "[CV]Prediction accuracy: 0.837988826816\n",
      "[CV]           AUC:0.835704874835\n",
      "No probability output, use decision function instead!\n",
      "[CV]Prediction accuracy: 0.815642458101\n",
      "[CV]           AUC:0.855335968379\n",
      "No probability output, use decision function instead!\n",
      "[CV]Prediction accuracy: 0.808988764045\n",
      "[CV]           AUC:0.870387700535\n",
      "No probability output, use decision function instead!\n",
      "[CV]Prediction accuracy: 0.797752808989\n",
      "[CV]           AUC:0.816911764706\n",
      "No probability output, use decision function instead!\n",
      "[CV]Prediction accuracy: 0.858757062147\n",
      "[CV]           AUC:0.892066918511\n",
      "No probability output, use decision function instead!\n",
      "[CV]Prediction accuracy: 0.837988826816\n",
      "[CV]           AUC:0.835704874835\n",
      "No probability output, use decision function instead!\n",
      "[CV]Prediction accuracy: 0.815642458101\n",
      "[CV]           AUC:0.855335968379\n",
      "No probability output, use decision function instead!\n",
      "[CV]Prediction accuracy: 0.808988764045\n",
      "[CV]           AUC:0.870387700535\n",
      "No probability output, use decision function instead!\n",
      "[CV]Prediction accuracy: 0.797752808989\n",
      "[CV]           AUC:0.816911764706\n",
      "No probability output, use decision function instead!\n",
      "[CV]Prediction accuracy: 0.858757062147\n",
      "[CV]           AUC:0.892066918511\n",
      "Mean Accuracy: 0.824 (+/- 0.043)\n",
      "Mean AUC: 0.854 (+/- 0.051)\n"
     ]
    }
   ],
   "source": [
    "from sklearn.metrics import roc_curve, auc\n",
    "from sklearn.cross_validation import StratifiedKFold as SKFold\n",
    "\n",
    "X = train_data[0:, 2:]\n",
    "y = train_data[0:, 0]\n",
    "\n",
    "scv1 = SKFold(y=y, n_folds=5, random_state=1234)\n",
    "scv2 = SKFold(y=y, n_folds=5, random_state=5678)\n",
    "\n",
    "def getAccAuc(pipeline, X_train, y_train, X_test, y_test):\n",
    "    \"\"\" To calculate accuracy and auc using different training test sets \n",
    "    given a predefined modelling pipeline.\n",
    "    \"\"\"\n",
    "    pipeline.fit(X_train, y_train)\n",
    "    # Get prediction on class label from the model\n",
    "    y_prediction = pipeline.predict(X_test)\n",
    "    \n",
    "    # Get probability or decision function output from the model\n",
    "    try:\n",
    "         y_out = pipeline.predict_proba(X_test)[:,1]                     \n",
    "    except AttributeError:\n",
    "         print \"No probability output, use decision function instead!\"\n",
    "         y_out = pipeline.decision_function(X_test)\n",
    "    \n",
    "    acc = np.sum(y_test == y_prediction)*1./len(y_test)\n",
    "    print \"[CV]Prediction accuracy:\", acc\n",
    "    # Compute area under the ROC curve (AUC)\n",
    "    fpr, tpr, thresholds = roc_curve(y_test, y_out)\n",
    "    roc_auc = auc(fpr, tpr)\n",
    "    print(\"[CV]           AUC:%s\"%roc_auc)\n",
    "    return([acc, roc_auc])\n",
    "\n",
    "\n",
    "pipeline_dict = {'rf': pipeline_rf, 'svm': pipeline_svm}\n",
    "acc_dict = {}\n",
    "auc_dict = {}\n",
    "for alg in ['rf', 'svm']:  \n",
    "  pipeline = pipeline_dict[alg]\n",
    "  mean_acc = 0.0\n",
    "  mean_auc = 0.0\n",
    "  all_acc = []\n",
    "  all_auc = []\n",
    "  print '--- CV using %s ---' % alg\n",
    "  \n",
    "  for scv in [scv1, scv2]:\n",
    "     for training_set, test_set in scv:\n",
    "        X_train = X[training_set]\n",
    "        y_train = y[training_set]\n",
    "        X_test = X[test_set]\n",
    "        y_test = y[test_set]\n",
    "\n",
    "        [acc, roc_auc] = getAccAuc(pipeline, X_train, y_train, X_test, y_test)\n",
    "    \n",
    "        all_acc.append(acc)\n",
    "        all_auc.append(roc_auc)\n",
    "        acc_dict[alg] = all_acc\n",
    "        auc_dict[alg] = all_auc\n",
    "    \n",
    "  all_acc=np.asarray(all_acc)\n",
    "  all_auc=np.asarray(all_auc)\n",
    "  acc_dict[alg] = all_acc\n",
    "  auc_dict[alg] = all_auc\n",
    "\n",
    "  # print 95% C.I. for both accuracy and AUC based on CV\n",
    "  print(\"Mean Accuracy: %0.3f (+/- %0.3f)\" % (all_acc.mean(), all_acc.std() * 1.96))\n",
    "  print(\"Mean AUC: %0.3f (+/- %0.3f)\" % (all_auc.mean(), all_auc.std() * 1.96))"
   ]
  },
  {
   "cell_type": "markdown",
   "metadata": {},
   "source": [
    "### Comparison of model performance from CV\n",
    "We now can start to compare the CV performance for the two type of models: rf and svm using boxplots and one sample (student) t-tests."
   ]
  },
  {
   "cell_type": "code",
   "execution_count": 16,
   "metadata": {
    "collapsed": false
   },
   "outputs": [
    {
     "name": "stdout",
     "output_type": "stream",
     "text": [
      "=== rf === \n",
      "95% C.I. for both accuracy and AUC based on CV for \n",
      "[ 0.81564246  0.82681564  0.83146067  0.78651685  0.86440678  0.79888268\n",
      "  0.82122905  0.83146067  0.78651685  0.85875706]\n",
      "Mean Accuracy: 0.822 (+/- 0.050)\n",
      "[ 0.84795784  0.8198946   0.87620321  0.88014706  0.90893146  0.84690382\n",
      "  0.82279315  0.87433155  0.88001337  0.91109012]\n",
      "Mean AUC: 0.867 (+/- 0.059)\n",
      "=== svm === \n",
      "95% C.I. for both accuracy and AUC based on CV for \n",
      "[ 0.83798883  0.81564246  0.80898876  0.79775281  0.85875706  0.83798883\n",
      "  0.81564246  0.80898876  0.79775281  0.85875706]\n",
      "Mean Accuracy: 0.824 (+/- 0.043)\n",
      "[ 0.83570487  0.85533597  0.8703877   0.81691176  0.89206692  0.83570487\n",
      "  0.85533597  0.8703877   0.81691176  0.89206692]\n",
      "Mean AUC: 0.854 (+/- 0.051)\n"
     ]
    },
    {
     "data": {
      "text/plain": [
       "<matplotlib.axes._subplots.AxesSubplot at 0x10efa5190>"
      ]
     },
     "execution_count": 16,
     "metadata": {},
     "output_type": "execute_result"
    },
    {
     "data": {
      "image/png": "[encoded data removed]",
      "text/plain": [
       "<matplotlib.figure.Figure at 0x10ee1ed90>"
      ]
     },
     "metadata": {},
     "output_type": "display_data"
    },
    {
     "data": {
      "image/png": "[encoded data removed]",
      "text/plain": [
       "<matplotlib.figure.Figure at 0x10eefb850>"
      ]
     },
     "metadata": {},
     "output_type": "display_data"
    }
   ],
   "source": [
    "%matplotlib inline \n",
    "import matplotlib.pyplot as plt\n",
    "from scipy import stats\n",
    "for alg in acc_dict:  \n",
    "    all_acc = np.array(acc_dict[alg])\n",
    "    all_auc = np.array(auc_dict[alg])\n",
    "    print \"===\", alg, \"=== \"\n",
    "    print \"95% C.I. for both accuracy and AUC based on CV for \"\n",
    "    print(all_acc)    \n",
    "    print(\"Mean Accuracy: %0.3f (+/- %0.3f)\" % (all_acc.mean(), all_acc.std() * 1.96))\n",
    "    print(all_auc)\n",
    "    print(\"Mean AUC: %0.3f (+/- %0.3f)\" % (all_auc.mean(), all_auc.std() * 1.96))\n",
    "\n",
    "dfacc = pd.DataFrame(np.c_[acc_dict['rf'], acc_dict['svm']], columns=['rf','svm'])    \n",
    "dfacc.plot(kind='box', title='Accuracy from 5-fold CV')\n",
    "dfauc = pd.DataFrame(np.c_[auc_dict['rf'], auc_dict['svm']], columns=['rf','svm'])    \n",
    "dfauc.plot(kind='box', title='AUC from 5-fold CV')\n"
   ]
  },
  {
   "cell_type": "code",
   "execution_count": 17,
   "metadata": {
    "collapsed": false
   },
   "outputs": [
    {
     "name": "stdout",
     "output_type": "stream",
     "text": [
      "Test the hypothesis that the mean difference in accuracy between rf and svm is not significantly different from 0:\n",
      "[-0.02234637  0.01117318  0.02247191 -0.01123596  0.00564972 -0.03910615\n",
      "  0.00558659  0.02247191 -0.01123596  0.        ]\n",
      " Mean difference = -0.002\n",
      "Ttest_1sampResult(statistic=-0.26758448597885054, pvalue=0.79505037190445593)\n",
      "Test the hypothesis that the mean difference in AUC between rf and svm is not significantly different from 0:\n",
      "[ 0.01225296 -0.03544137  0.00581551  0.06323529  0.01686454  0.01119895\n",
      " -0.03254282  0.00394385  0.0631016   0.01902321]\n",
      " Mean difference = 0.013\n",
      "Ttest_1sampResult(statistic=1.2313255551089652, pvalue=0.24940567361337934)\n"
     ]
    }
   ],
   "source": [
    "diff_acc = np.array(acc_dict['rf']) - np.array(acc_dict['svm'])\n",
    "diff_auc = np.array(auc_dict['rf']) - np.array(auc_dict['svm'])\n",
    "\n",
    "print 'Test the hypothesis that the mean difference in accuracy between rf and svm is not significantly different from 0:'\n",
    "print(diff_acc)\n",
    "print ' Mean difference = %0.3f' % diff_acc.mean()\n",
    "print(stats.ttest_1samp(diff_acc, popmean=0))\n",
    "print 'Test the hypothesis that the mean difference in AUC between rf and svm is not significantly different from 0:'\n",
    "print(diff_auc)\n",
    "print ' Mean difference = %0.3f' % diff_auc.mean()\n",
    "print(stats.ttest_1samp(diff_auc, popmean=0))"
   ]
  },
  {
   "cell_type": "markdown",
   "metadata": {},
   "source": [
    "Remarks:\n",
    "\n",
    "1. The mean difference in accuracy and AUC indicates that rf performs slightly better than SVM in auc. The variances in accuracy and AUC for RF are slightly higher than for SVM. And the 95% C.I. of Accuracy for the RF and for SVM indeed overlap, thus the accuracy for RF is not significantly different from SVM (at significance level of 0.05). The same applies to AUC. \n",
    "\n",
    "2. The p-value for the one-sample t-test on difference in accuracy is 0.795 >0.05, which reconfirms that we can't reject the null hypothesis that there is no significant difference in accuracy between RF and SVM. \n",
    "\n",
    "3. Whilst the p-value for the t-test on difference in AUC is 0.25 > 0.05, thus we can't reject the null hypothesis that there is no significant difference in AUC between RF and SVM. \n",
    "\n",
    "More details on how to perform t-tests using scipy, please see: \n",
    "http://docs.scipy.org/doc/scipy/reference/generated/scipy.stats.ttest_1samp.html"
   ]
  },
  {
   "cell_type": "markdown",
   "metadata": {},
   "source": [
    "## Sikit-learn - Model training\n",
    "Now that we've determined the model we are going to use and the desired values for our tuning parameters, we can fill in the missing values (NaN) in the column Age with the mean and train our model."
   ]
  },
  {
   "cell_type": "code",
   "execution_count": 18,
   "metadata": {
    "collapsed": false
   },
   "outputs": [
    {
     "data": {
      "text/plain": [
       "count    714.000000\n",
       "mean      29.699118\n",
       "std       14.526497\n",
       "min        0.420000\n",
       "25%       20.125000\n",
       "50%       28.000000\n",
       "75%       38.000000\n",
       "max       80.000000\n",
       "Name: Age, dtype: float64"
      ]
     },
     "execution_count": 18,
     "metadata": {},
     "output_type": "execute_result"
    }
   ],
   "source": [
    "df['Age'].describe()"
   ]
  },
  {
   "cell_type": "code",
   "execution_count": 34,
   "metadata": {
    "collapsed": false
   },
   "outputs": [],
   "source": [
    "df['Age'] = df['Age'].fillna(age_mean)"
   ]
  },
  {
   "cell_type": "code",
   "execution_count": 35,
   "metadata": {
    "collapsed": false
   },
   "outputs": [
    {
     "data": {
      "text/plain": [
       "count    891.000000\n",
       "mean      29.699118\n",
       "std       13.002015\n",
       "min        0.420000\n",
       "25%       22.000000\n",
       "50%       29.699118\n",
       "75%       35.000000\n",
       "max       80.000000\n",
       "Name: Age, dtype: float64"
      ]
     },
     "execution_count": 35,
     "metadata": {},
     "output_type": "execute_result"
    }
   ],
   "source": [
    "df['Age'].describe()"
   ]
  },
  {
   "cell_type": "code",
   "execution_count": 36,
   "metadata": {
    "collapsed": false
   },
   "outputs": [],
   "source": [
    "train_data = df.values"
   ]
  },
  {
   "cell_type": "code",
   "execution_count": 37,
   "metadata": {
    "collapsed": false
   },
   "outputs": [],
   "source": [
    "model = RandomForestClassifier(n_estimators = 1000, max_depth=5)\n",
    "model = model.fit(train_data[0:,2:],train_data[0:,0])"
   ]
  },
  {
   "cell_type": "markdown",
   "metadata": {},
   "source": [
    "## Scikit-learn - Making predictions"
   ]
  },
  {
   "cell_type": "code",
   "execution_count": 38,
   "metadata": {
    "collapsed": false
   },
   "outputs": [],
   "source": [
    "df_test = pd.read_csv('data/test.csv')\n",
    "\n",
    "df_test = df_test.drop(['Name', 'Ticket', 'Cabin'], axis=1)"
   ]
  },
  {
   "cell_type": "markdown",
   "metadata": {},
   "source": [
    "We can fill in the NA values in test data with the mean, since there is no analogous problem of snooping."
   ]
  },
  {
   "cell_type": "code",
   "execution_count": 39,
   "metadata": {
    "collapsed": false
   },
   "outputs": [
    {
     "data": {
      "text/html": [
       "<div>\n",
       "<table border=\"1\" class=\"dataframe\">\n",
       "  <thead>\n",
       "    <tr style=\"text-align: right;\">\n",
       "      <th></th>\n",
       "      <th>PassengerId</th>\n",
       "      <th>Pclass</th>\n",
       "      <th>Age</th>\n",
       "      <th>SibSp</th>\n",
       "      <th>Parch</th>\n",
       "      <th>Fare</th>\n",
       "    </tr>\n",
       "  </thead>\n",
       "  <tbody>\n",
       "    <tr>\n",
       "      <th>count</th>\n",
       "      <td>418.000000</td>\n",
       "      <td>418.000000</td>\n",
       "      <td>418.000000</td>\n",
       "      <td>418.000000</td>\n",
       "      <td>418.000000</td>\n",
       "      <td>417.000000</td>\n",
       "    </tr>\n",
       "    <tr>\n",
       "      <th>mean</th>\n",
       "      <td>1100.500000</td>\n",
       "      <td>2.265550</td>\n",
       "      <td>30.154603</td>\n",
       "      <td>0.447368</td>\n",
       "      <td>0.392344</td>\n",
       "      <td>35.627188</td>\n",
       "    </tr>\n",
       "    <tr>\n",
       "      <th>std</th>\n",
       "      <td>120.810458</td>\n",
       "      <td>0.841838</td>\n",
       "      <td>12.636666</td>\n",
       "      <td>0.896760</td>\n",
       "      <td>0.981429</td>\n",
       "      <td>55.907576</td>\n",
       "    </tr>\n",
       "    <tr>\n",
       "      <th>min</th>\n",
       "      <td>892.000000</td>\n",
       "      <td>1.000000</td>\n",
       "      <td>0.170000</td>\n",
       "      <td>0.000000</td>\n",
       "      <td>0.000000</td>\n",
       "      <td>0.000000</td>\n",
       "    </tr>\n",
       "    <tr>\n",
       "      <th>25%</th>\n",
       "      <td>996.250000</td>\n",
       "      <td>1.000000</td>\n",
       "      <td>23.000000</td>\n",
       "      <td>0.000000</td>\n",
       "      <td>0.000000</td>\n",
       "      <td>7.895800</td>\n",
       "    </tr>\n",
       "    <tr>\n",
       "      <th>50%</th>\n",
       "      <td>1100.500000</td>\n",
       "      <td>3.000000</td>\n",
       "      <td>29.699118</td>\n",
       "      <td>0.000000</td>\n",
       "      <td>0.000000</td>\n",
       "      <td>14.454200</td>\n",
       "    </tr>\n",
       "    <tr>\n",
       "      <th>75%</th>\n",
       "      <td>1204.750000</td>\n",
       "      <td>3.000000</td>\n",
       "      <td>35.750000</td>\n",
       "      <td>1.000000</td>\n",
       "      <td>0.000000</td>\n",
       "      <td>31.500000</td>\n",
       "    </tr>\n",
       "    <tr>\n",
       "      <th>max</th>\n",
       "      <td>1309.000000</td>\n",
       "      <td>3.000000</td>\n",
       "      <td>76.000000</td>\n",
       "      <td>8.000000</td>\n",
       "      <td>9.000000</td>\n",
       "      <td>512.329200</td>\n",
       "    </tr>\n",
       "  </tbody>\n",
       "</table>\n",
       "</div>"
      ],
      "text/plain": [
       "       PassengerId      Pclass         Age       SibSp       Parch        Fare\n",
       "count   418.000000  418.000000  418.000000  418.000000  418.000000  417.000000\n",
       "mean   1100.500000    2.265550   30.154603    0.447368    0.392344   35.627188\n",
       "std     120.810458    0.841838   12.636666    0.896760    0.981429   55.907576\n",
       "min     892.000000    1.000000    0.170000    0.000000    0.000000    0.000000\n",
       "25%     996.250000    1.000000   23.000000    0.000000    0.000000    7.895800\n",
       "50%    1100.500000    3.000000   29.699118    0.000000    0.000000   14.454200\n",
       "75%    1204.750000    3.000000   35.750000    1.000000    0.000000   31.500000\n",
       "max    1309.000000    3.000000   76.000000    8.000000    9.000000  512.329200"
      ]
     },
     "execution_count": 39,
     "metadata": {},
     "output_type": "execute_result"
    }
   ],
   "source": [
    "df_test['Age'] = df_test['Age'].fillna(age_mean)\n",
    "df_test.describe()"
   ]
  },
  {
   "cell_type": "code",
   "execution_count": 40,
   "metadata": {
    "collapsed": false
   },
   "outputs": [
    {
     "name": "stderr",
     "output_type": "stream",
     "text": [
      "/Applications/CompTools/miniconda/lib/python2.7/site-packages/ipykernel/__main__.py:3: FutureWarning: scalar indexers for index type Int64Index should be integers and not floating point\n",
      "  app.launch_new_instance()\n"
     ]
    }
   ],
   "source": [
    "fare_means = df.pivot_table('Fare', index='Pclass', aggfunc='mean')\n",
    "df_test['Fare'] = df_test[['Fare', 'Pclass']].apply(lambda x:\n",
    "                            fare_means[x['Pclass']] if pd.isnull(x['Fare'])\n",
    "                            else x['Fare'], axis=1)\n",
    "\n",
    "df_test['Gender'] = df_test['Sex'].map({'female': 0, 'male': 1}).astype(int)\n",
    "df_test = pd.concat([df_test, pd.get_dummies(df_test['Embarked'], prefix='Embarked')],\n",
    "                axis=1)\n",
    "\n",
    "df_test = df_test.drop(['Sex', 'Embarked'], axis=1)\n",
    "\n",
    "test_data = df_test.values\n",
    "\n",
    "output = model.predict(test_data[0::,1::])"
   ]
  },
  {
   "cell_type": "markdown",
   "metadata": {},
   "source": [
    "## Pandas - Preparing for submission"
   ]
  },
  {
   "cell_type": "code",
   "execution_count": 41,
   "metadata": {
    "collapsed": false
   },
   "outputs": [],
   "source": [
    "result = np.c_[test_data[:,0].astype(int), output.astype(int)]\n",
    "\n",
    "df_result = pd.DataFrame(result[:,0:2], columns=['PassengerId', 'Survived'])\n",
    "df_result.to_csv('results/titanic_5.csv', index=False)"
   ]
  },
  {
   "cell_type": "markdown",
   "metadata": {},
   "source": [
    "## Checking verions\n",
    "\n",
    "Finally, checking the versions of python and relevant libraries. "
   ]
  },
  {
   "cell_type": "code",
   "execution_count": 42,
   "metadata": {
    "collapsed": false
   },
   "outputs": [
    {
     "name": "stdout",
     "output_type": "stream",
     "text": [
      "Python:  sys.version_info(major=2, minor=7, micro=13, releaselevel='final', serial=0)\n",
      "Pandas:  0.17.1\n",
      "Sklearn:  0.17\n"
     ]
    }
   ],
   "source": [
    "import sys\n",
    "import sklearn\n",
    "print 'Python: ', sys.version_info\n",
    "print 'Pandas: ', pd.__version__\n",
    "print 'Sklearn: ', sklearn.__version__\n"
   ]
  },
  {
   "cell_type": "code",
   "execution_count": null,
   "metadata": {
    "collapsed": true
   },
   "outputs": [],
   "source": []
  }
 ],
 "metadata": {
  "kernelspec": {
   "display_name": "Python 2",
   "language": "python",
   "name": "python2"
  },
  "language_info": {
   "codemirror_mode": {
    "name": "ipython",
    "version": 2
   },
   "file_extension": ".py",
   "mimetype": "text/x-python",
   "name": "python",
   "nbconvert_exporter": "python",
   "pygments_lexer": "ipython2",
   "version": "2.7.13"
  }
 },
 "nbformat": 4,
 "nbformat_minor": 0
}
