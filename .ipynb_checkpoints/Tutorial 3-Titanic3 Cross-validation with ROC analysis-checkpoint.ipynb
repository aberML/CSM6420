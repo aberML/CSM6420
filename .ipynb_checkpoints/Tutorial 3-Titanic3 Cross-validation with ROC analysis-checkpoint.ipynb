{
 "cells": [
  {
   "cell_type": "markdown",
   "metadata": {},
   "source": [
    "## Section 3 Cross-Validation and ROC curve analysis"
   ]
  },
  {
   "cell_type": "markdown",
   "metadata": {},
   "source": [
    "Suppose we don't have access to the Kaggle leaderboard, we still have means to check how well we're doing with cross-validation. The process is as follows: we divide the data set into two, using the first to train our model and the second to make predictions. Since we have the actual outcomes in the second data set, we can use this as a basis of comparison and calculate the accuracy of our predictions. Dividing the data set into two is called 2-fold cross-validation, with each fold being the individual partitions of the data set. "
   ]
  },
  {
   "cell_type": "markdown",
   "metadata": {},
   "source": [
    "Cross-validation is best illustrated by an example. We'll load and process the Titanic training set as before."
   ]
  },
  {
   "cell_type": "code",
   "execution_count": 1,
   "metadata": {
    "collapsed": false
   },
   "outputs": [
    {
     "name": "stderr",
     "output_type": "stream",
     "text": [
      "/Applications/CompTools/miniconda/lib/python2.7/site-packages/numpy/lib/arraysetops.py:200: FutureWarning: numpy not_equal will not check object identity in the future. The comparison did not return the same result as suggested by the identity (`is`)) and will change.\n",
      "  flag = np.concatenate(([True], aux[1:] != aux[:-1]))\n"
     ]
    }
   ],
   "source": [
    "import pandas as pd\n",
    "import numpy as np\n",
    "\n",
    "df = pd.read_csv('data/train.csv')\n",
    "\n",
    "df = df.drop(['Name', 'Ticket', 'Cabin'], axis=1)\n",
    "\n",
    "age_mean = df['Age'].mean()\n",
    "df['Age'] = df['Age'].fillna(age_mean)\n",
    "\n",
    "from scipy.stats import mode\n",
    "\n",
    "mode_embarked = mode(df['Embarked'])[0][0]\n",
    "df['Embarked'] = df['Embarked'].fillna(mode_embarked)\n",
    "\n",
    "df['Gender'] = df['Sex'].map({'female': 0, 'male': 1}).astype(int)\n",
    "\n",
    "pd.get_dummies(df['Embarked'], prefix='Embarked').head(10)\n",
    "df = pd.concat([df, pd.get_dummies(df['Embarked'], prefix='Embarked')], axis=1)\n",
    "\n",
    "df = df.drop(['Sex', 'Embarked'], axis=1)\n",
    "\n",
    "cols = df.columns.tolist()\n",
    "cols = [cols[1]] + cols[0:1] + cols[2:]\n",
    "\n",
    "df = df[cols]"
   ]
  },
  {
   "cell_type": "markdown",
   "metadata": {},
   "source": [
    "For convenience, we'll rename the feature columns of the training set as X, and the outcomes as y."
   ]
  },
  {
   "cell_type": "code",
   "execution_count": 2,
   "metadata": {
    "collapsed": false
   },
   "outputs": [
    {
     "name": "stdout",
     "output_type": "stream",
     "text": [
      "<class 'pandas.core.frame.DataFrame'>\n",
      "Int64Index: 891 entries, 0 to 890\n",
      "Data columns (total 11 columns):\n",
      "Survived       891 non-null int64\n",
      "PassengerId    891 non-null int64\n",
      "Pclass         891 non-null int64\n",
      "Age            891 non-null float64\n",
      "SibSp          891 non-null int64\n",
      "Parch          891 non-null int64\n",
      "Fare           891 non-null float64\n",
      "Gender         891 non-null int64\n",
      "Embarked_C     891 non-null float64\n",
      "Embarked_Q     891 non-null float64\n",
      "Embarked_S     891 non-null float64\n",
      "dtypes: float64(5), int64(6)\n",
      "memory usage: 83.5 KB\n"
     ]
    }
   ],
   "source": [
    "df.info()\n",
    "train_data = df.values[:891]\n",
    "\n",
    "X = train_data[:, 2:]\n",
    "y = train_data[:, 0]"
   ]
  },
  {
   "cell_type": "markdown",
   "metadata": {},
   "source": [
    "We can generate cross-validation folds automatically with Scikit-learn. KFold divides our data set into the required number of folds."
   ]
  },
  {
   "cell_type": "code",
   "execution_count": 3,
   "metadata": {
    "collapsed": false
   },
   "outputs": [
    {
     "name": "stdout",
     "output_type": "stream",
     "text": [
      "Prediction accuracy: 0.776536312849\n",
      "Prediction accuracy: 0.797752808989\n",
      "Prediction accuracy: 0.837078651685\n",
      "Prediction accuracy: 0.775280898876\n",
      "Prediction accuracy: 0.842696629213\n"
     ]
    }
   ],
   "source": [
    "from sklearn.cross_validation import KFold\n",
    "from sklearn.ensemble import RandomForestClassifier\n",
    "\n",
    "random_seed=1234\n",
    "cv = KFold(n=len(train_data), n_folds=5, random_state=random_seed)\n",
    "\n",
    "for training_set, test_set in cv:\n",
    "    X_train = X[training_set]\n",
    "    y_train = y[training_set]\n",
    "    X_test = X[test_set]\n",
    "    y_test = y[test_set]\n",
    "    model = RandomForestClassifier(n_estimators=100)    \n",
    "    model.fit(X_train, y_train)\n",
    "    \n",
    "    y_prediction = model.predict(X_test)\n",
    "    print \"Prediction accuracy:\", np.sum(y_test == y_prediction)*1./len(y_test)"
   ]
  },
  {
   "cell_type": "markdown",
   "metadata": {},
   "source": [
    "It is important to note that, cross-validation is generally recommended across a larger number of folds, usually between 5 and 10."
   ]
  },
  {
   "cell_type": "markdown",
   "metadata": {},
   "source": [
    "### Stratified cross-validation and random seed control\n",
    "Below stratified cross-validation is used, where the distribution of the class lables is kept the same for each fold.\n",
    "Usually the stratified cross-validation is preferred over the non-stratified one. \n",
    "\n",
    "For fair comparison of various model types, you need to make sure the each model type was cross-validated using the same kfold split. To control the kfold split, the random seed needs to be controlled. \n",
    "\n",
    "### Get AUC and create ROC curves from cross-validation\n",
    "Besides accuracy, the code below will also calculate AUC from each iteration of the CV. \n",
    "Note that for calculating meaningful AUC, a continuous output prediction should be used instead of discrete class label prediction. As AUC was obtained by taking into account all possible cut-off values for the binary classification over a contiuous output prediction. \n",
    "Many algorithms implemented in scikit-learn (e.g. naive_bayes, DecisionTreeClassifier, LogisticRegression, KNeighborsClassifier, SVC, randomForest, could all provide a probability output using method predict_proba, SVC could provide the decision score using method decision_function. "
   ]
  },
  {
   "cell_type": "code",
   "execution_count": 4,
   "metadata": {
    "collapsed": false
   },
   "outputs": [
    {
     "name": "stdout",
     "output_type": "stream",
     "text": [
      "Prediction accuracy: 0.787709497207\n",
      "Area under ROC curve (AUC): 0.828524374177\n",
      "Prediction accuracy: 0.815642458101\n",
      "Area under ROC curve (AUC): 0.799011857708\n",
      "Prediction accuracy: 0.842696629213\n",
      "Area under ROC curve (AUC): 0.901069518717\n",
      "Prediction accuracy: 0.775280898876\n",
      "Area under ROC curve (AUC): 0.852807486631\n",
      "Prediction accuracy: 0.83615819209\n",
      "Area under ROC curve (AUC): 0.888356718834\n"
     ]
    },
    {
     "data": {
      "image/png": "[encoded data removed]",
      "text/plain": [
       "<matplotlib.figure.Figure at 0x10c2a9fd0>"
      ]
     },
     "metadata": {},
     "output_type": "display_data"
    },
    {
     "name": "stdout",
     "output_type": "stream",
     "text": [
      "[ 0.7877095   0.81564246  0.84269663  0.7752809   0.83615819]\n",
      "Mean Accuracy: 0.811 (+/- 0.052)\n",
      "[ 0.82852437  0.79901186  0.90106952  0.85280749  0.88835672]\n",
      "Mean AUC: 0.854 (+/- 0.074)\n"
     ]
    }
   ],
   "source": [
    "%matplotlib inline \n",
    "import matplotlib.pyplot as plt\n",
    "from sklearn.metrics import roc_curve, auc\n",
    "from sklearn.cross_validation import StratifiedKFold as SKFold\n",
    "#from sklearn.naive_bayes import MultinomialNB, BernoulliNB, GaussianNB\n",
    "\n",
    "random_seed = 1234\n",
    "scv = SKFold(y=y, n_folds=5, random_state=random_seed)\n",
    "\n",
    "mean_acc = 0.0\n",
    "mean_auc = 0.0\n",
    "all_tpr = []\n",
    "all_acc = []\n",
    "all_auc = []\n",
    "\n",
    "i=0\n",
    "for training_set, test_set in scv:\n",
    "    i+=1\n",
    "    X_train = X[training_set]\n",
    "    y_train = y[training_set]\n",
    "    X_test = X[test_set]\n",
    "    y_test = y[test_set]\n",
    "    model = RandomForestClassifier(n_estimators=100)\n",
    "    model.fit(X_train, y_train)\n",
    "    # Get prediction on class label from the model\n",
    "    y_prediction = model.predict(X_test)\n",
    "    \n",
    "    # Get probability output from the model\n",
    "    y_prob = model.predict_proba(X_test)\n",
    "    acc = np.sum(y_test == y_prediction)*1./len(y_test)\n",
    "    print \"Prediction accuracy:\", acc\n",
    "    # Compute ROC curve and area the curve\n",
    "    fpr, tpr, thresholds = roc_curve(y_test, y_prob[:, 1])\n",
    "    roc_auc = auc(fpr, tpr)\n",
    "    print \"Area under ROC curve (AUC):\", roc_auc\n",
    "    plt.plot(fpr, tpr, lw=1, label='ROC fold %d (area = %0.2f)' % (i, roc_auc))    \n",
    "    all_acc.append(acc)\n",
    "    all_auc.append(roc_auc)\n",
    "\n",
    "plt.plot([0, 1], [0, 1], '--', color=(0.6, 0.6, 0.6))#, label='Luck')\n",
    "plt.xlim([-0.05, 1.05])\n",
    "plt.ylim([-0.05, 1.05])\n",
    "plt.xlabel('False Positive Rate')\n",
    "plt.ylabel('True Positive Rate')\n",
    "plt.title('Receiver operating characteristic example')\n",
    "plt.legend(loc=\"lower right\")\n",
    "plt.show()\n",
    "\n",
    "all_acc=np.asarray(all_acc)\n",
    "all_auc=np.asarray(all_auc)\n",
    "print(all_acc)\n",
    "# print 95% C.I. for both accuracy and AUC based on CV\n",
    "print(\"Mean Accuracy: %0.3f (+/- %0.3f)\" % (all_acc.mean(), all_acc.std() * 1.96))\n",
    "print(all_auc)\n",
    "print(\"Mean AUC: %0.3f (+/- %0.3f)\" % (all_auc.mean(), all_auc.std() * 1.96))"
   ]
  },
  {
   "cell_type": "markdown",
   "metadata": {},
   "source": [
    "For more stuffs on on scikit-learn cross-validation, please see:\n",
    "http://scikit-learn.org/stable/modules/cross_validation.html\n",
    "\n",
    "Example of benchmarking different classification algorithms: \n",
    "http://scikit-learn.org/dev/auto_examples/text/document_classification_20newsgroups.html#example-text-document-classification-20newsgroups-py"
   ]
  }
 ],
 "metadata": {
  "kernelspec": {
   "display_name": "Python 2",
   "language": "python",
   "name": "python2"
  },
  "language_info": {
   "codemirror_mode": {
    "name": "ipython",
    "version": 2
   },
   "file_extension": ".py",
   "mimetype": "text/x-python",
   "name": "python",
   "nbconvert_exporter": "python",
   "pygments_lexer": "ipython2",
   "version": "2.7.13"
  }
 },
 "nbformat": 4,
 "nbformat_minor": 0
}
