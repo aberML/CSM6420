{
 "cells": [
  {
   "cell_type": "markdown",
   "metadata": {},
   "source": [
    "## Probabililty Distributions and Hypothesis Tests (t-test)\n",
    "\n",
    "### Random Variable\n",
    "Random variable is a variable quantity whose value is subject to variations due to chance (i.e. randomness). A random variable can take on a set of possible different values (similarly to other mathematical variables), each with an associated probability [wiki](https://en.wikipedia.org/wiki/Random_variable)\n",
    "    \n",
    "### Probability Distribution\n",
    "Assigns a probability to each measurable subset of the possible outcomes of a random experiment, survey, or procedure of statistical inference. [wiki](https://en.wikipedia.org/wiki/Probability_distribution)\n",
    "\n",
    "#### Probability Density Function\n",
    "function that describes the relative likelihood for this random variable to take on a given value\n",
    "\n",
    "### Central Limit Theorem\n",
    "Given certain conditions, the arithmetic mean of a sufficiently large number of iterates of independent random variables, each with a well-defined expected value and well-defined variance, will be approximately normally distributed, regardless of the underlying distribution. [wiki](https://en.wikipedia.org/wiki/Central_limit_theorem)\n",
    "\n",
    "#### Normal Distribution\n",
    "A bell shaped distribution. It is also called Gaussian distribution\n",
    "\n",
    "<img style=\"float: left;\" src=\"img/normaldist.png\" height=\"220\" width=\"220\">\n",
    "<br>\n",
    "<br>\n",
    "<br>\n",
    "<br>\n",
    "\n",
    "\n",
    "\n",
    "**PDF**\n",
    "<br>\n",
    "<br>\n",
    "<img style=\"float: left;\" src=\"img/normal_pdf.png\" height=\"320\" width=\"320\">\n",
    "<br>\n",
    "<br>\n",
    "<br>\n",
    "<br>\n",
    "<br>\n",
    "<br>\n",
    "<br>\n",
    "<br>\n",
    "<br>\n",
    "<br>\n",
    "<br>\n",
    "<br>\n",
    "<br>\n",
    "\n",
    "#### Mean/Median/Mode\n",
    "\n",
    "#### Variance\n",
    "\n",
    "It's the average distance of the data values from the *mean*\n",
    "\n",
    "<img style=\"float: left;\" src=\"img/variance.png\" height=\"320\" width=\"320\">\n",
    "<br>\n",
    "<br>\n",
    "<br>\n",
    "<br>\n",
    "\n",
    "#### Standard Deviation\n",
    "It is the square root of variance. This will have the same units as the data and mean.\n",
    "In [19]:\n",
    "\n",
    "\n",
    "#### Skewness\n",
    "Measure of the asymmetry of the probability distribution of a real-valued random variable about its mean. [wiki](https://en.wikipedia.org/wiki/Skewness)\n",
    "\n",
    "<img style=\"float: left;\" src=\"img/skewness.png\" height=\"620\" width=\"620\">\n",
    "<br>\n",
    "<br>\n",
    "<br>\n",
    "<br>\n",
    "<br>\n",
    "<br>\n",
    "<br>\n",
    "<br>\n",
    "<br>\n",
    "<br>\n",
    "<br>\n",
    "\n",
    "\n",
    "#### Binomial Distribution\n",
    "\n",
    "Binomial distribution with parameters `n` and `p` is the discrete probability distribution of the number of successes in a sequence of n independent yes/no experiments, each of which yields success with probability p. A success/failure experiment is also called a Bernoulli experiment or Bernoulli trial; when n = 1, the binomial distribution is a Bernoulli distribution  [wiki](https://en.wikipedia.org/wiki/Binomial_distribution)\n",
    "<br>\n",
    "<br>\n",
    "<img style=\"float: left;\" src=\"img/binomial_pmf.png\" height=\"420\" width=\"420\">\n",
    "<br>\n",
    "<br>\n",
    "<br>\n",
    "\n",
    "#### Uniform distribution\n",
    "All values have the same frequency [wiki](https://en.wikipedia.org/wiki/Uniform_distribution_(continuous))\n",
    "\n",
    "\n",
    "<br> \n",
    "<br>\n",
    "<img style=\"float: left;\" src=\"img/uniform.png\" height=\"420\" width=\"420\">\n",
    "<br>\n",
    "<br>\n",
    "<br>\n",
    "<br>\n",
    "<br>\n",
    "<br>\n",
    "<br>\n",
    "<br>\n",
    "<br>\n",
    "<br>\n",
    "<br>\n",
    "<br>\n",
    "<br>\n",
    "<br>\n",
    "<br>\n",
    "<br>\n",
    "<br>\n",
    "<br>"
   ]
  },
  {
   "cell_type": "markdown",
   "metadata": {},
   "source": [
    "### Histograms\n",
    "Histograms are commonly used representation for a distribution.\n",
    "\n",
    "Below we compare the distributions of head counts out of 500 coin tossing between two experiments using two different coins (showing heads with probability of 0.5 and 0.6, respectively), and each experiment has been repeated 100 times."
   ]
  },
  {
   "cell_type": "code",
   "execution_count": 1,
   "metadata": {
    "collapsed": false
   },
   "outputs": [
    {
     "name": "stdout",
     "output_type": "stream",
     "text": [
      "(100,)\n",
      "[260 232 259 226 249 255 236 262 228]\n",
      "[302 307 298 309 294 280 286 316 312]\n",
      "Exp1: mean 250.530, variance 144.589\n",
      "Exp2: mean 300.620, variance 92.236\n"
     ]
    },
    {
     "data": {
      "image/png": "[encoded data removed]",
      "text/plain": [
       "<matplotlib.figure.Figure at 0x102637fd0>"
      ]
     },
     "metadata": {},
     "output_type": "display_data"
    }
   ],
   "source": [
    "%matplotlib inline  \n",
    "\n",
    "import numpy as np\n",
    "from scipy.stats import stats\n",
    "import matplotlib.pyplot as plt  \n",
    "\n",
    "# Use generating random numbers from binomial distributions \n",
    "heads_exp1 = np.random.binomial(n=500, p=.50, size=100)\n",
    "heads_exp2 = np.random.binomial(n=500, p=.60, size=100)\n",
    "\n",
    "print(heads_exp1.shape)\n",
    "print(heads_exp1[1:10])\n",
    "print(heads_exp2[1:10])\n",
    "\n",
    "m1 = heads_exp1.mean()\n",
    "m2 = heads_exp2.mean()\n",
    "var1 = heads_exp1.var()\n",
    "var2 = heads_exp2.var()\n",
    "print(\"Exp1: mean %0.3f, variance %0.3f\" %(m1, var1))\n",
    "print(\"Exp2: mean %0.3f, variance %0.3f\" %(m2, var2))\n",
    "\n",
    "plt.hist(heads_exp1, bins=20, alpha=0.5, label='exp1')\n",
    "plt.hist(heads_exp2, bins=20, alpha=0.5, label='exp2')\n",
    "plt.legend(loc='upper right')\n",
    "plt.axvline(x=m1, color='r')\n",
    "plt.axvline(x=m2, color='r')\n",
    "\n",
    "plt.show()\n"
   ]
  },
  {
   "cell_type": "markdown",
   "metadata": {},
   "source": [
    "## Hypothesis Testing\n",
    "We would like to know if the effects we see in the sample(observed data) are likely to occur in the population.\n",
    "The way classical hypothesis testing works is by conducting a statistical test to answer the following question:\n",
    "Given the sample and an effect, what is the probability of seeing that effect just by chance?\n",
    "Here are the steps on how we would do this\n",
    "- Compute test statistic\n",
    "- Define null hypothesis (assume the effect is false or seen by chance)\n",
    "- Compute p-value (to estimate the probability of seeing that effect by chance)\n",
    "- Interpret the result\n",
    "\n",
    "If p-value is very low (most often, below 0.05), the effect is considered statistically significant. That means that effect is unlikely to have occured by chance. The inference? The effect is likely to be seen in the population too.\n",
    "\n",
    "This process is very similar to the proof by contradiction paradigm. We first assume that the effect is false. That's the null hypothesis. Next step is to compute the probability of obtaining that effect (the p-value). If p-value is very low(< 0.05 as a rule of thumb), we reject the null hypothesis."
   ]
  },
  {
   "cell_type": "markdown",
   "metadata": {},
   "source": [
    "Now get back to the coin tossing experiment. We are interested in comparing the rate of heads for the two different coins. We could then compute the difference in the mean of rate of heads. \n",
    "\n",
    "### Question: is the rate of heads higher for the second coin than for the first one?\n",
    "- How can we tell the difference is significant (i.e. not due to random fluctuation of the experimentation)?\n",
    "\n",
    "- what kind of distribution we could expect for the rate of heads for each individual coin? How to visualise it? "
   ]
  },
  {
   "cell_type": "code",
   "execution_count": 2,
   "metadata": {
    "collapsed": false
   },
   "outputs": [
    {
     "name": "stdout",
     "output_type": "stream",
     "text": [
      "[ 0.52   0.464  0.518  0.452  0.498  0.51   0.472  0.524  0.456]\n",
      "[ 0.604  0.614  0.596  0.618  0.588  0.56   0.572  0.632  0.624]\n",
      "Exp1: mean 0.501, sd 0.024\n",
      "Exp2: mean 0.601, sd 0.019\n",
      "Diff in rate of heads -0.100\n"
     ]
    }
   ],
   "source": [
    "# Note the effect of dividing using integers only\n",
    "pheads_exp1 = heads_exp1/500.0; \n",
    "pheads_exp2 = heads_exp2/500.0; \n",
    "\n",
    "print pheads_exp1[1:10]\n",
    "print pheads_exp2[1:10]\n",
    "\n",
    "m1 = pheads_exp1.mean()\n",
    "m2 = pheads_exp2.mean()\n",
    "std1 = pheads_exp1.std()\n",
    "std2 = pheads_exp2.std()\n",
    "print(\"Exp1: mean %0.3f, sd %0.3f\" %(m1, std1))\n",
    "print(\"Exp2: mean %0.3f, sd %0.3f\" %(m2, std2))\n",
    "\n",
    "# Now compute the mean of the rate of heads\n",
    "diffm = m1 - m2\n",
    "print(\"Diff in rate of heads %0.3f\" %diffm)"
   ]
  },
  {
   "cell_type": "markdown",
   "metadata": {},
   "source": [
    "### Use hypothesis test\n",
    "to check if the difference in mean is significantly different from 0 or not.\n",
    "\n",
    "> ***Distribution of the rate of heads*** \n",
    "We can approximate the distribution of the rate of heads with ***normal distribution*** (see central limit theorem) \n",
    "\n",
    ">*** Null Hypothesis***: Mean rate of heads aren't significantly different\n",
    "\n",
    ">*** Perform t-test*** and determine the p-value."
   ]
  },
  {
   "cell_type": "code",
   "execution_count": 3,
   "metadata": {
    "collapsed": false
   },
   "outputs": [
    {
     "data": {
      "text/plain": [
       "Ttest_indResult(statistic=-32.385837399506919, pvalue=5.2263786690529487e-79)"
      ]
     },
     "execution_count": 3,
     "metadata": {},
     "output_type": "execute_result"
    }
   ],
   "source": [
    "stats.ttest_ind(pheads_exp1, pheads_exp2, equal_var=False)"
   ]
  },
  {
   "cell_type": "markdown",
   "metadata": {},
   "source": [
    "p-value is the probability of seeing the effect by chance. And here, p-value is almost 0.\n",
    "\n",
    "*Conclusion*: The mean difference in rate of heads is significant. The rate of heads for first coin is higher than the second by 0.1."
   ]
  },
  {
   "cell_type": "markdown",
   "metadata": {},
   "source": [
    "### Question: to check if the first coin is biased\n",
    "Use one-sample t-test (stats.ttest) to check if the rate of heads are significantly different from 0.5 or not."
   ]
  },
  {
   "cell_type": "code",
   "execution_count": 4,
   "metadata": {
    "collapsed": false
   },
   "outputs": [
    {
     "name": "stdout",
     "output_type": "stream",
     "text": [
      "t_statistic = 0.4386, p_value = 0.6619\n"
     ]
    }
   ],
   "source": [
    "t_statistic, p_value = stats.ttest_1samp(pheads_exp1, 0.5)\n",
    "print(\"t_statistic = %.4f, p_value = %.4f\" %(t_statistic, p_value) )"
   ]
  },
  {
   "cell_type": "markdown",
   "metadata": {},
   "source": [
    "### Application of t-tests\n",
    "\n",
    "#### Assumption of t-test\n",
    "\n",
    "One assumption is that the data used came from a normal distribution. \n",
    "<br>\n",
    "There are various tests (e.g. [Shapiro-Wilk test] https://en.wikipedia.org/wiki/Shapiro-Wilk) to test for normality. If p-value is less than 0.05, then there's a low chance that the distribution is normal. \n",
    "\n",
    "However in practice t-tests work still fine when the normality assumption is violated, as long as the distribution is not too skewed.  \n",
    "\n",
    "#### One-sample t-tests vs two sample t-tests\n",
    "In the above example we have done two-sample t-test using two independent samples.\n",
    "However one sample t-tests are also available to test if the mean of a sample is equal to a certain value or not. \n",
    "\n",
    "### Comparison of the model performance using t-tests\n",
    "Quite often we evaluate our model performance using mulitple random samples (e.g. from cross-validation) and result into a sample of performance measure (e.g. accuracy, sensitivity, specificity). We can then use t-tests to compare the performance of two different models, if the two types of models were trained and validated using the same sets of data in a paired manner, we could then use paired t-tests to compare the performance. \n",
    "\n",
    "### Use t-tests for feature ranking\n",
    "T-tests could be use to test the association between a continuous variable and a binary variable (e.g. with a target variable class + and -, i.e. two different populations)\n",
    "T-tests are equivalent to one-way ANOVA (Analysis of Variance) when the categorical variable is binary and under the assumpation of equal variances. Whilst one-way ANOVA could be used to check the association between the continuous variable to the categorical variable of more than two categories."
   ]
  },
  {
   "cell_type": "markdown",
   "metadata": {},
   "source": [
    "#### Question: Which of these give smaller p-values ? \n",
    "Smaller effect size (e.g. mean difference between samples / groups)\n",
    "Smaller standard deviation\n",
    "Smaller sample size\n",
    "Higher variance\n",
    "\n",
    "Answer:\n",
    "\n",
    "#### Question: how to select/rank feture based on t-tests (in case of binary target variables)? \n",
    "Which the following could be useful?\n",
    "- Filter out features with p-values greater than certain threshold (e.g. 0.1)\n",
    "- Rank the features increasingly with p-values (the smaller the p-value, the more important the features). \n"
   ]
  },
  {
   "cell_type": "markdown",
   "metadata": {
    "collapsed": true
   },
   "source": [
    "### Chi-Squared tests\n",
    "Chi-Square tests are used when the data are frequencies, rather than numerical score/price.\n",
    "\n",
    "The following two tests make use of chi-square statistic\n",
    "\n",
    "1. chi-square test for goodness of fit\n",
    "2. chi-square test for independence\n",
    "\n",
    "Chi-square test is a non-parametric test. They do not require assumptions about population parameters and they do not test hypotheses about population parameters."
   ]
  },
  {
   "cell_type": "markdown",
   "metadata": {},
   "source": [
    "### Chi-Square test for goodness fit / for independence\n",
    "<br>\n",
    "The chi-squared goodness-of-fit test is an analog of the one-sample t-test for categorical variables: it tests whether the distribution of sample categorical data matches an expected distribution. \n",
    "\n",
    "Alternatively, it could be used to test the independence (null hypothesis) between two categorical variables. Therefore the smaller the p-value, the more significant in the association thus could be used for feature selection/ranking.  \n",
    "\n",
    "<br>\n",
    "<br>\n",
    "$$ \\chi^2 = \\sum (O - E)^2/E $$\n",
    "\n",
    "* O is observed frequency\n",
    "* E is expected frequency\n",
    "* $ \\chi $ is the chi-square statistic"
   ]
  },
  {
   "cell_type": "code",
   "execution_count": 5,
   "metadata": {
    "collapsed": false
   },
   "outputs": [],
   "source": [
    "#scipy.stats.chisquare(f_obs, f_exp=None, ddof=0, axis=0)[source]\n"
   ]
  },
  {
   "cell_type": "code",
   "execution_count": null,
   "metadata": {
    "collapsed": true
   },
   "outputs": [],
   "source": []
  }
 ],
 "metadata": {
  "kernelspec": {
   "display_name": "Python 2",
   "language": "python",
   "name": "python2"
  },
  "language_info": {
   "codemirror_mode": {
    "name": "ipython",
    "version": 2
   },
   "file_extension": ".py",
   "mimetype": "text/x-python",
   "name": "python",
   "nbconvert_exporter": "python",
   "pygments_lexer": "ipython2",
   "version": "2.7.13"
  }
 },
 "nbformat": 4,
 "nbformat_minor": 0
}
